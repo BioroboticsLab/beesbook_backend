{
 "cells": [
  {
   "cell_type": "markdown",
   "metadata": {},
   "source": [
    "# Test Views"
   ]
  },
  {
   "cell_type": "code",
   "execution_count": null,
   "metadata": {
    "ExecuteTime": {
     "end_time": "2017-01-26T15:57:53.335137",
     "start_time": "2017-01-26T15:57:53.062915"
    },
    "collapsed": false
   },
   "outputs": [],
   "source": [
    "import requests\n",
    "import json\n",
    "import os\n",
    "import shutil\n",
    "if os.path.exists('tmp'):\n",
    "    shutil.rmtree('tmp')\n",
    "os.makedirs('tmp')\n",
    "\n",
    "import matplotlib.pyplot as plt\n",
    "%matplotlib inline\n",
    "\n",
    "def download_file(url, dl_path, method='GET', data=None):\n",
    "    if method == 'GET':\n",
    "        r = requests.get(url, stream=True)\n",
    "    elif method == 'POST':\n",
    "        r = requests.post(url, data=data, stream=True)\n",
    "    else:\n",
    "        raise Exception('\"{}\" method not implemented'.format(method))\n",
    "        \n",
    "    if r.status_code != 200:\n",
    "        raise Exception(\"HTTP Code: {}\".format(r.status_code))\n",
    "\n",
    "    with open(dl_path, 'wb') as f:\n",
    "        for chunk in r.iter_content(chunk_size=1024):\n",
    "            if chunk:  # filter out keep-alive new chunks\n",
    "                f.write(chunk)\n",
    "\n",
    "    return r.status_code"
   ]
  },
  {
   "cell_type": "markdown",
   "metadata": {},
   "source": [
    "### get frame"
   ]
  },
  {
   "cell_type": "code",
   "execution_count": null,
   "metadata": {
    "ExecuteTime": {
     "end_time": "2017-01-26T15:57:53.763340",
     "start_time": "2017-01-26T15:57:53.336491"
    },
    "collapsed": false
   },
   "outputs": [],
   "source": [
    "frame_id = 12374963781934078112\n",
    "dlpath = 'tmp/frame.jpg'\n",
    "r = download_file('http://127.0.0.1:8000/plotter/get_frame/', dlpath, data={'frame_id': frame_id}, method='POST')\n",
    "plt.imshow(plt.imread(dlpath))"
   ]
  },
  {
   "cell_type": "markdown",
   "metadata": {},
   "source": [
    "### get video"
   ]
  },
  {
   "cell_type": "code",
   "execution_count": null,
   "metadata": {
    "ExecuteTime": {
     "end_time": "2017-01-26T15:57:58.439282",
     "start_time": "2017-01-26T15:57:53.764986"
    },
    "collapsed": false,
    "scrolled": false
   },
   "outputs": [],
   "source": [
    "frame_ids = [12374963781934078112, 14049805060270581790, 11405474163529860883, 11372846544035335768, 14629708695225982447, 9819463347275665872, 11700042929056468523, 15792442312875909835, 11690427278663537190, 15831943445522851887, 14391111680266539306, 13567421646228445186, 12450250225308976468, 15548727655437711823, 17557263976115850568, 18234098393008766320, 10758975332562546970, 16882544737747777640, 12840565335613229314, 10035249087504170591, 10958009848621758834, 13735679153664987277, 13450168197880340057, 9590447227669800161, 16955674819165997917, 12319159751914763260, 12950282567968135660, 12924941825760842204, 15985365455951959227, 10092902136813651599, 12512282237257965078]\n",
    "dlpath = 'tmp/video.mp4'\n",
    "r = download_file('http://127.0.0.1:8000/plotter/get_video/', dlpath, data={'frame_ids': json.dumps(frame_ids)}, method='POST')\n",
    "\n",
    "from IPython.display import HTML\n",
    "VIDEO_HTML = \"\"\"\n",
    "<video style='margin: 0 auto;' width=\"{width}\" height=\"{height}\" controls>\n",
    "    <source src=\"{src}\" type=\"video/mp4\">\n",
    "</video>\n",
    "\"\"\"\n",
    "HTML(VIDEO_HTML.format(\n",
    "        src=dlpath,\n",
    "        width=4000/6,\n",
    "        height=3000/6\n",
    "    ))"
   ]
  },
  {
   "cell_type": "markdown",
   "metadata": {
    "collapsed": true
   },
   "source": [
    "### plot frame"
   ]
  },
  {
   "cell_type": "code",
   "execution_count": null,
   "metadata": {
    "ExecuteTime": {
     "end_time": "2017-01-26T15:57:58.444965",
     "start_time": "2017-01-26T15:57:58.441979"
    },
    "collapsed": true
   },
   "outputs": [],
   "source": [
    "with open('plot_frame_data.json', 'r') as f:\n",
    "    beedata_frame = f.read()"
   ]
  },
  {
   "cell_type": "code",
   "execution_count": null,
   "metadata": {
    "ExecuteTime": {
     "end_time": "2017-01-26T15:57:59.394139",
     "start_time": "2017-01-26T15:57:58.446458"
    },
    "collapsed": false
   },
   "outputs": [],
   "source": [
    "dlpath = 'tmp/plot_frame.jpg'\n",
    "r = download_file('http://127.0.0.1:8000/plotter/plot_frame/', \n",
    "                  dlpath, \n",
    "                  data={'data': beedata_frame}, \n",
    "                  method='POST')\n",
    "plt.figure(figsize=(8,6))\n",
    "plt.imshow(plt.imread(dlpath))"
   ]
  },
  {
   "cell_type": "markdown",
   "metadata": {
    "collapsed": true
   },
   "source": [
    "### plot video"
   ]
  },
  {
   "cell_type": "code",
   "execution_count": null,
   "metadata": {
    "ExecuteTime": {
     "end_time": "2017-01-26T15:58:05.289974",
     "start_time": "2017-01-26T15:57:59.395771"
    },
    "collapsed": false
   },
   "outputs": [],
   "source": [
    "with open('plot_video_data.json', 'r') as f:\n",
    "    data = f.read()\n",
    "\n",
    "dlpath = 'tmp/video_plot.mp4'\n",
    "r = download_file('http://127.0.0.1:8000/plotter/plot_video/', dlpath, data={'data': data}, method='POST')\n",
    "\n",
    "from IPython.display import HTML\n",
    "VIDEO_HTML = \"\"\"\n",
    "<video style='margin: 0 auto;' width=\"{width}\" height=\"{height}\" controls>\n",
    "    <source src=\"{src}\" type=\"video/mp4\">\n",
    "</video>\n",
    "\"\"\"\n",
    "HTML(VIDEO_HTML.format(\n",
    "        src=dlpath,\n",
    "        width=4000/6,\n",
    "        height=3000/6\n",
    "    ))"
   ]
  },
  {
   "cell_type": "markdown",
   "metadata": {
    "collapsed": true
   },
   "source": [
    "### cleanup"
   ]
  },
  {
   "cell_type": "code",
   "execution_count": null,
   "metadata": {
    "ExecuteTime": {
     "end_time": "2017-01-26T16:55:13.992345",
     "start_time": "2017-01-26T16:55:13.986213"
    },
    "collapsed": true
   },
   "outputs": [],
   "source": [
    "shutil.rmtree('tmp')"
   ]
  },
  {
   "cell_type": "code",
   "execution_count": null,
   "metadata": {
    "collapsed": true
   },
   "outputs": [],
   "source": []
  },
  {
   "cell_type": "code",
   "execution_count": null,
   "metadata": {
    "collapsed": true
   },
   "outputs": [],
   "source": []
  },
  {
   "cell_type": "code",
   "execution_count": null,
   "metadata": {
    "collapsed": true
   },
   "outputs": [],
   "source": []
  },
  {
   "cell_type": "code",
   "execution_count": null,
   "metadata": {
    "collapsed": true
   },
   "outputs": [],
   "source": []
  },
  {
   "cell_type": "code",
   "execution_count": null,
   "metadata": {
    "collapsed": true
   },
   "outputs": [],
   "source": []
  }
 ],
 "metadata": {
  "hide_input": false,
  "kernelspec": {
   "display_name": "Django Shell-Plus",
   "language": "python",
   "name": "django_extensions"
  },
  "language_info": {
   "codemirror_mode": {
    "name": "ipython",
    "version": 3
   },
   "file_extension": ".py",
   "mimetype": "text/x-python",
   "name": "python",
   "nbconvert_exporter": "python",
   "pygments_lexer": "ipython3",
   "version": "3.6.0"
  }
 },
 "nbformat": 4,
 "nbformat_minor": 2
}
